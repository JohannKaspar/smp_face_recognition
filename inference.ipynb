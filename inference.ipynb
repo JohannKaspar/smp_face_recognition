{
 "cells": [
  {
   "cell_type": "code",
   "execution_count": null,
   "metadata": {},
   "outputs": [],
   "source": [
    "import tensorflow as tf\n",
    "\n",
    "from dataset_utils import read_annotations, FOLDS, FOLDS_ROOT, IMAGES_ROOT\n",
    "from inference_utils import (\n",
    "    get_sliding_window_detections, \n",
    "    get_sliding_window_inference_boxes,\n",
    "    get_sliding_window_detections\n",
    ")\n",
    "\n",
    "from plotting import plot_image_with_bounding_boxes, load_image_to_array\n",
    "\n",
    "split_type = \"TEST\"\n",
    "folds = FOLDS[split_type]\n",
    "\n",
    "all_annotations_per_image = read_annotations(FOLDS_ROOT, folds)\n",
    "\n",
    "model = tf.keras.models.load_model(\"simple_model.keras\")\n",
    "\n",
    "input_height = model.input.shape[1]\n",
    "input_width = model.input.shape[2]"
   ]
  },
  {
   "cell_type": "code",
   "execution_count": null,
   "metadata": {},
   "outputs": [],
   "source": [
    "for key in list(all_annotations_per_image.keys())[:2]:\n",
    "\n",
    "    gt_bboxes = all_annotations_per_image[key]\n",
    "\n",
    "    img_array = load_image_to_array(IMAGES_ROOT / (key + \".jpg\"))\n",
    "    plot_image_with_bounding_boxes(img_array, gt_bboxes)"
   ]
  },
  {
   "cell_type": "code",
   "execution_count": null,
   "metadata": {},
   "outputs": [],
   "source": [
    "for key in list(all_annotations_per_image.keys())[:2]:\n",
    "\n",
    "    img_array = load_image_to_array(IMAGES_ROOT / (key + \".jpg\"))\n",
    "\n",
    "    gt_bboxes = all_annotations_per_image[key]\n",
    "    inference_boxes = get_sliding_window_inference_boxes(img_array.shape, (input_height, input_width))\n",
    "\n",
    "    img_array = load_image_to_array(IMAGES_ROOT / (key + \".jpg\"))\n",
    "    plot_image_with_bounding_boxes(img_array, gt_bboxes, inference_boxes)"
   ]
  },
  {
   "cell_type": "code",
   "execution_count": null,
   "metadata": {},
   "outputs": [],
   "source": [
    "for key in list(all_annotations_per_image.keys())[:10]:\n",
    "\n",
    "    img_array = load_image_to_array(IMAGES_ROOT / (key + \".jpg\"))\n",
    "\n",
    "    gt_bboxes = all_annotations_per_image[key]\n",
    "    detection_boxes = get_sliding_window_detections(img_array, (input_height, input_width), model)\n",
    "\n",
    "    img_array = load_image_to_array(IMAGES_ROOT / (key + \".jpg\"))\n",
    "    plot_image_with_bounding_boxes(img_array, gt_bboxes, detection_boxes)"
   ]
  },
  {
   "cell_type": "code",
   "execution_count": null,
   "metadata": {},
   "outputs": [],
   "source": []
  }
 ],
 "metadata": {
  "kernelspec": {
   "display_name": "smp",
   "language": "python",
   "name": "python3"
  },
  "language_info": {
   "codemirror_mode": {
    "name": "ipython",
    "version": 3
   },
   "file_extension": ".py",
   "mimetype": "text/x-python",
   "name": "python",
   "nbconvert_exporter": "python",
   "pygments_lexer": "ipython3",
   "version": "3.9.18"
  }
 },
 "nbformat": 4,
 "nbformat_minor": 2
}
